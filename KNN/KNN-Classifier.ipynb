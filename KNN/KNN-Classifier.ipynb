{
 "cells": [
  {
   "cell_type": "markdown",
   "id": "ee23f838",
   "metadata": {},
   "source": [
    "#### 1.What is Decision Boundary"
   ]
  },
  {
   "cell_type": "markdown",
   "id": "85b9e87b",
   "metadata": {},
   "source": [
    "In a classification problem with two or more classes, a decision boundary or decision surface is a \n",
    "hypersurface that partitions the underlying vector space into two or more sets, one for each class.\n",
    "The classifier will classify all the points on one side of the decision \n",
    "boundary as belonging to one class and all those on the other \n",
    "side as belonging to the other class.\n"
   ]
  },
  {
   "cell_type": "markdown",
   "id": "9b3b7781",
   "metadata": {},
   "source": [
    "### Important Points "
   ]
  },
  {
   "cell_type": "markdown",
   "id": "d9dd595e",
   "metadata": {},
   "source": [
    "1. We can draw decision boundary for all the clssification algorithms including neural networks.\n",
    "2.Decision boundary can be both linear(as in the case of SVM) or non-linear(as in the case of Decision tree classifier or knn).\n",
    "3.Decision boundaries are not always clear cut. That is, the transition from one class in the feature space to another is not \n",
    "discontinuous, but gradual.This effect is common in fuzzy logic based classification algorithms,\n",
    "where membership in one class or another is ambiguous.\n",
    "4.For higher dimension problems the decision boundary acts as a hyperplane(for linear ones)"
   ]
  },
  {
   "cell_type": "markdown",
   "id": "4c862cbd",
   "metadata": {},
   "source": [
    "#### 2.Vornoi Diagram"
   ]
  },
  {
   "cell_type": "markdown",
   "id": "561d079b",
   "metadata": {},
   "source": [
    "In mathematics, a vornoi diagram is a partitioning of a plane into \n",
    "regions based on distance to points in a specific subset of the plance."
   ]
  },
  {
   "cell_type": "markdown",
   "id": "780b29df",
   "metadata": {},
   "source": [
    "#### 3.Steps to plot Decision Boundary for KNN (Assuming 2 input Columns)"
   ]
  },
  {
   "cell_type": "markdown",
   "id": "e4b3b52b",
   "metadata": {},
   "source": [
    "1.Train the classifier on the training set.\n",
    "2.Create a uniform grid(with the help of Numpy Meshgrids) of points that densely cover the region of input space containing \n",
    "the training set.\n",
    "3.Classify each point on the grid.Store the results in an array A, where Aij contains the predicted class for the point at row i, column j on the grid.\n",
    "4.Plot the array as an image, where each pixel corresponds to a grid point and its color represents the predicted class.\n",
    "The decision boundary can be seen as contours where the image changes color.\n",
    "5. Finally print out the training data with their respective color on the same contour."
   ]
  },
  {
   "cell_type": "markdown",
   "id": "59f94b3a",
   "metadata": {},
   "source": [
    "### step 2"
   ]
  },
  {
   "cell_type": "markdown",
   "id": "810382d1",
   "metadata": {},
   "source": [
    "### Creating a Meshgrid "
   ]
  },
  {
   "cell_type": "code",
   "execution_count": 2,
   "id": "4a8f74c5",
   "metadata": {},
   "outputs": [],
   "source": [
    "import numpy as np"
   ]
  },
  {
   "cell_type": "code",
   "execution_count": 3,
   "id": "b74619da",
   "metadata": {},
   "outputs": [
    {
     "data": {
      "text/plain": [
       "[array([[1, 2, 3],\n",
       "        [1, 2, 3],\n",
       "        [1, 2, 3],\n",
       "        [1, 2, 3]]),\n",
       " array([[4, 4, 4],\n",
       "        [5, 5, 5],\n",
       "        [6, 6, 6],\n",
       "        [7, 7, 7]])]"
      ]
     },
     "execution_count": 3,
     "metadata": {},
     "output_type": "execute_result"
    }
   ],
   "source": [
    "x=np.array([1,2,3])\n",
    "y=np.array([4,5,6,7])\n",
    "np.meshgrid(x,y)"
   ]
  },
  {
   "cell_type": "code",
   "execution_count": 4,
   "id": "4ebef672",
   "metadata": {},
   "outputs": [],
   "source": [
    "xx,yy=np.meshgrid(x,y)"
   ]
  },
  {
   "cell_type": "code",
   "execution_count": 5,
   "id": "6abaf491",
   "metadata": {},
   "outputs": [
    {
     "data": {
      "text/plain": [
       "(4, 3)"
      ]
     },
     "execution_count": 5,
     "metadata": {},
     "output_type": "execute_result"
    }
   ],
   "source": [
    "xx.shape"
   ]
  },
  {
   "cell_type": "code",
   "execution_count": 6,
   "id": "8db9f7ac",
   "metadata": {},
   "outputs": [
    {
     "data": {
      "text/plain": [
       "(4, 3)"
      ]
     },
     "execution_count": 6,
     "metadata": {},
     "output_type": "execute_result"
    }
   ],
   "source": [
    "yy.shape"
   ]
  },
  {
   "cell_type": "markdown",
   "id": "4a4e9f63",
   "metadata": {},
   "source": [
    "### Purpose of Meshgrid"
   ]
  },
  {
   "cell_type": "markdown",
   "id": "358e8bb7",
   "metadata": {},
   "source": [
    "Meshgrid is very useful to evalute function on a grid. We can apply any function to the points of a meshgrid to plot a function."
   ]
  },
  {
   "cell_type": "markdown",
   "id": "9386912e",
   "metadata": {},
   "source": [
    "#### Plotting a function using Meshgrid "
   ]
  },
  {
   "cell_type": "code",
   "execution_count": 10,
   "id": "10e41142",
   "metadata": {},
   "outputs": [],
   "source": [
    "x=np.linspace(-40,40,100)\n",
    "y=np.linspace(-50,50,90)\n",
    "XX,YY=np.meshgrid(x,y)"
   ]
  },
  {
   "cell_type": "code",
   "execution_count": 11,
   "id": "62b5f4bd",
   "metadata": {},
   "outputs": [
    {
     "data": {
      "text/plain": [
       "(90, 100)"
      ]
     },
     "execution_count": 11,
     "metadata": {},
     "output_type": "execute_result"
    }
   ],
   "source": [
    "YY.shape"
   ]
  },
  {
   "cell_type": "code",
   "execution_count": 12,
   "id": "a6428078",
   "metadata": {},
   "outputs": [
    {
     "data": {
      "text/plain": [
       "(90, 100)"
      ]
     },
     "execution_count": 12,
     "metadata": {},
     "output_type": "execute_result"
    }
   ],
   "source": [
    "XX.shape"
   ]
  },
  {
   "cell_type": "code",
   "execution_count": 13,
   "id": "b9aa996a",
   "metadata": {},
   "outputs": [],
   "source": [
    "Z=(XX**2)+(YY**2)"
   ]
  },
  {
   "cell_type": "code",
   "execution_count": 17,
   "id": "a38bc4f0",
   "metadata": {},
   "outputs": [],
   "source": [
    "import numpy as np\n",
    "import pandas as pd\n",
    "import matplotlib.pyplot as plt"
   ]
  },
  {
   "cell_type": "code",
   "execution_count": 18,
   "id": "161d2e61",
   "metadata": {},
   "outputs": [
    {
     "data": {
      "text/plain": [
       "<matplotlib.contour.QuadContourSet at 0x13a85f1d910>"
      ]
     },
     "execution_count": 18,
     "metadata": {},
     "output_type": "execute_result"
    },
    {
     "data": {
      "image/png": "[encoded data removed]",
      "text/plain": [
       "<Figure size 640x480 with 1 Axes>"
      ]
     },
     "metadata": {},
     "output_type": "display_data"
    }
   ],
   "source": [
    "plt.contourf(XX,YY,Z)"
   ]
  },
  {
   "cell_type": "code",
   "execution_count": 19,
   "id": "1e4b0b13",
   "metadata": {},
   "outputs": [
    {
     "data": {
      "text/plain": [
       "<matplotlib.contour.QuadContourSet at 0x13a8682df10>"
      ]
     },
     "execution_count": 19,
     "metadata": {},
     "output_type": "execute_result"
    },
    {
     "data": {
      "image/png": "[encoded data removed]",
      "text/plain": [
       "<Figure size 640x480 with 1 Axes>"
      ]
     },
     "metadata": {},
     "output_type": "display_data"
    }
   ],
   "source": [
    "Z=np.random.random((90,100))\n",
    "plt.contourf(XX,YY,Z)"
   ]
  },
  {
   "cell_type": "raw",
   "id": "5fc09f45",
   "metadata": {},
   "source": [
    "#creating meshgrid for our project"
   ]
  },
  {
   "cell_type": "code",
   "execution_count": 21,
   "id": "006d1277",
   "metadata": {},
   "outputs": [],
   "source": [
    "df=pd.read_csv(\"C:/Users/Damodhara/Desktop/DSMP/Social_Network_Ads.csv\")"
   ]
  },
  {
   "cell_type": "code",
   "execution_count": 22,
   "id": "08b2437a",
   "metadata": {},
   "outputs": [
    {
     "data": {
      "text/html": [
       "<div>\n",
       "<style scoped>\n",
       "    .dataframe tbody tr th:only-of-type {\n",
       "        vertical-align: middle;\n",
       "    }\n",
       "\n",
       "    .dataframe tbody tr th {\n",
       "        vertical-align: top;\n",
       "    }\n",
       "\n",
       "    .dataframe thead th {\n",
       "        text-align: right;\n",
       "    }\n",
       "</style>\n",
       "<table border=\"1\" class=\"dataframe\">\n",
       "  <thead>\n",
       "    <tr style=\"text-align: right;\">\n",
       "      <th></th>\n",
       "      <th>User ID</th>\n",
       "      <th>Gender</th>\n",
       "      <th>Age</th>\n",
       "      <th>EstimatedSalary</th>\n",
       "      <th>Purchased</th>\n",
       "    </tr>\n",
       "  </thead>\n",
       "  <tbody>\n",
       "    <tr>\n",
       "      <th>0</th>\n",
       "      <td>15624510</td>\n",
       "      <td>Male</td>\n",
       "      <td>19</td>\n",
       "      <td>19000</td>\n",
       "      <td>0</td>\n",
       "    </tr>\n",
       "    <tr>\n",
       "      <th>1</th>\n",
       "      <td>15810944</td>\n",
       "      <td>Male</td>\n",
       "      <td>35</td>\n",
       "      <td>20000</td>\n",
       "      <td>0</td>\n",
       "    </tr>\n",
       "    <tr>\n",
       "      <th>2</th>\n",
       "      <td>15668575</td>\n",
       "      <td>Female</td>\n",
       "      <td>26</td>\n",
       "      <td>43000</td>\n",
       "      <td>0</td>\n",
       "    </tr>\n",
       "    <tr>\n",
       "      <th>3</th>\n",
       "      <td>15603246</td>\n",
       "      <td>Female</td>\n",
       "      <td>27</td>\n",
       "      <td>57000</td>\n",
       "      <td>0</td>\n",
       "    </tr>\n",
       "    <tr>\n",
       "      <th>4</th>\n",
       "      <td>15804002</td>\n",
       "      <td>Male</td>\n",
       "      <td>19</td>\n",
       "      <td>76000</td>\n",
       "      <td>0</td>\n",
       "    </tr>\n",
       "    <tr>\n",
       "      <th>...</th>\n",
       "      <td>...</td>\n",
       "      <td>...</td>\n",
       "      <td>...</td>\n",
       "      <td>...</td>\n",
       "      <td>...</td>\n",
       "    </tr>\n",
       "    <tr>\n",
       "      <th>395</th>\n",
       "      <td>15691863</td>\n",
       "      <td>Female</td>\n",
       "      <td>46</td>\n",
       "      <td>41000</td>\n",
       "      <td>1</td>\n",
       "    </tr>\n",
       "    <tr>\n",
       "      <th>396</th>\n",
       "      <td>15706071</td>\n",
       "      <td>Male</td>\n",
       "      <td>51</td>\n",
       "      <td>23000</td>\n",
       "      <td>1</td>\n",
       "    </tr>\n",
       "    <tr>\n",
       "      <th>397</th>\n",
       "      <td>15654296</td>\n",
       "      <td>Female</td>\n",
       "      <td>50</td>\n",
       "      <td>20000</td>\n",
       "      <td>1</td>\n",
       "    </tr>\n",
       "    <tr>\n",
       "      <th>398</th>\n",
       "      <td>15755018</td>\n",
       "      <td>Male</td>\n",
       "      <td>36</td>\n",
       "      <td>33000</td>\n",
       "      <td>0</td>\n",
       "    </tr>\n",
       "    <tr>\n",
       "      <th>399</th>\n",
       "      <td>15594041</td>\n",
       "      <td>Female</td>\n",
       "      <td>49</td>\n",
       "      <td>36000</td>\n",
       "      <td>1</td>\n",
       "    </tr>\n",
       "  </tbody>\n",
       "</table>\n",
       "<p>400 rows × 5 columns</p>\n",
       "</div>"
      ],
      "text/plain": [
       "      User ID  Gender  Age  EstimatedSalary  Purchased\n",
       "0    15624510    Male   19            19000          0\n",
       "1    15810944    Male   35            20000          0\n",
       "2    15668575  Female   26            43000          0\n",
       "3    15603246  Female   27            57000          0\n",
       "4    15804002    Male   19            76000          0\n",
       "..        ...     ...  ...              ...        ...\n",
       "395  15691863  Female   46            41000          1\n",
       "396  15706071    Male   51            23000          1\n",
       "397  15654296  Female   50            20000          1\n",
       "398  15755018    Male   36            33000          0\n",
       "399  15594041  Female   49            36000          1\n",
       "\n",
       "[400 rows x 5 columns]"
      ]
     },
     "execution_count": 22,
     "metadata": {},
     "output_type": "execute_result"
    }
   ],
   "source": [
    "df"
   ]
  },
  {
   "cell_type": "code",
   "execution_count": 24,
   "id": "aca95b6a",
   "metadata": {},
   "outputs": [
    {
     "data": {
      "text/html": [
       "<div>\n",
       "<style scoped>\n",
       "    .dataframe tbody tr th:only-of-type {\n",
       "        vertical-align: middle;\n",
       "    }\n",
       "\n",
       "    .dataframe tbody tr th {\n",
       "        vertical-align: top;\n",
       "    }\n",
       "\n",
       "    .dataframe thead th {\n",
       "        text-align: right;\n",
       "    }\n",
       "</style>\n",
       "<table border=\"1\" class=\"dataframe\">\n",
       "  <thead>\n",
       "    <tr style=\"text-align: right;\">\n",
       "      <th></th>\n",
       "      <th>User ID</th>\n",
       "      <th>Gender</th>\n",
       "      <th>Age</th>\n",
       "      <th>EstimatedSalary</th>\n",
       "      <th>Purchased</th>\n",
       "    </tr>\n",
       "  </thead>\n",
       "  <tbody>\n",
       "    <tr>\n",
       "      <th>0</th>\n",
       "      <td>15624510</td>\n",
       "      <td>Male</td>\n",
       "      <td>19</td>\n",
       "      <td>19000</td>\n",
       "      <td>0</td>\n",
       "    </tr>\n",
       "    <tr>\n",
       "      <th>1</th>\n",
       "      <td>15810944</td>\n",
       "      <td>Male</td>\n",
       "      <td>35</td>\n",
       "      <td>20000</td>\n",
       "      <td>0</td>\n",
       "    </tr>\n",
       "    <tr>\n",
       "      <th>2</th>\n",
       "      <td>15668575</td>\n",
       "      <td>Female</td>\n",
       "      <td>26</td>\n",
       "      <td>43000</td>\n",
       "      <td>0</td>\n",
       "    </tr>\n",
       "    <tr>\n",
       "      <th>3</th>\n",
       "      <td>15603246</td>\n",
       "      <td>Female</td>\n",
       "      <td>27</td>\n",
       "      <td>57000</td>\n",
       "      <td>0</td>\n",
       "    </tr>\n",
       "    <tr>\n",
       "      <th>4</th>\n",
       "      <td>15804002</td>\n",
       "      <td>Male</td>\n",
       "      <td>19</td>\n",
       "      <td>76000</td>\n",
       "      <td>0</td>\n",
       "    </tr>\n",
       "  </tbody>\n",
       "</table>\n",
       "</div>"
      ],
      "text/plain": [
       "    User ID  Gender  Age  EstimatedSalary  Purchased\n",
       "0  15624510    Male   19            19000          0\n",
       "1  15810944    Male   35            20000          0\n",
       "2  15668575  Female   26            43000          0\n",
       "3  15603246  Female   27            57000          0\n",
       "4  15804002    Male   19            76000          0"
      ]
     },
     "execution_count": 24,
     "metadata": {},
     "output_type": "execute_result"
    }
   ],
   "source": [
    "df.head()"
   ]
  },
  {
   "cell_type": "code",
   "execution_count": 25,
   "id": "c2f0b711",
   "metadata": {},
   "outputs": [],
   "source": [
    "X=df.iloc[:,2:4].values"
   ]
  },
  {
   "cell_type": "code",
   "execution_count": 27,
   "id": "71367b8e",
   "metadata": {},
   "outputs": [
    {
     "data": {
      "text/plain": [
       "(400, 2)"
      ]
     },
     "execution_count": 27,
     "metadata": {},
     "output_type": "execute_result"
    }
   ],
   "source": [
    "X.shape"
   ]
  },
  {
   "cell_type": "code",
   "execution_count": 29,
   "id": "09fc761a",
   "metadata": {},
   "outputs": [],
   "source": [
    "y=df.iloc[:,-1].values"
   ]
  },
  {
   "cell_type": "code",
   "execution_count": 30,
   "id": "015a84bd",
   "metadata": {},
   "outputs": [
    {
     "data": {
      "text/plain": [
       "(400,)"
      ]
     },
     "execution_count": 30,
     "metadata": {},
     "output_type": "execute_result"
    }
   ],
   "source": [
    "y.shape"
   ]
  },
  {
   "cell_type": "code",
   "execution_count": 31,
   "id": "2bde6e78",
   "metadata": {},
   "outputs": [],
   "source": [
    "from sklearn.model_selection import train_test_split\n",
    "X_train,X_test,y_train,y_test=train_test_split(X,y,test_size=0.20)"
   ]
  },
  {
   "cell_type": "code",
   "execution_count": 32,
   "id": "94c96fce",
   "metadata": {},
   "outputs": [
    {
     "data": {
      "text/plain": [
       "(320, 2)"
      ]
     },
     "execution_count": 32,
     "metadata": {},
     "output_type": "execute_result"
    }
   ],
   "source": [
    "X_train.shape"
   ]
  },
  {
   "cell_type": "code",
   "execution_count": 34,
   "id": "98d42653",
   "metadata": {},
   "outputs": [
    {
     "data": {
      "text/plain": [
       "(80, 2)"
      ]
     },
     "execution_count": 34,
     "metadata": {},
     "output_type": "execute_result"
    }
   ],
   "source": [
    "X_test.shape"
   ]
  },
  {
   "cell_type": "code",
   "execution_count": 36,
   "id": "2970a89e",
   "metadata": {},
   "outputs": [],
   "source": [
    "from sklearn.preprocessing import StandardScaler\n",
    "scaler=StandardScaler()"
   ]
  },
  {
   "cell_type": "code",
   "execution_count": 38,
   "id": "1ce566bd",
   "metadata": {},
   "outputs": [
    {
     "data": {
      "text/plain": [
       "array([[ 0.14042727,  0.05439689],\n",
       "       [-1.13229048, -1.58666753],\n",
       "       [-0.54488229,  0.90423382],\n",
       "       [ 1.90265185, -0.26795505],\n",
       "       [-0.05537546, -0.35586922],\n",
       "       [-0.74068502,  0.28883466],\n",
       "       [ 0.72783547, -1.26431559],\n",
       "       [ 0.33623   , -0.18004088],\n",
       "       [-0.25117819, -0.35586922],\n",
       "       [-0.15327683,  0.8749291 ],\n",
       "       [ 0.9236382 , -1.29362031],\n",
       "       [-1.13229048,  0.49396772],\n",
       "       [-0.34907956,  1.25589049],\n",
       "       [-0.54488229,  1.40241409],\n",
       "       [-0.64278365, -0.32656449],\n",
       "       [-1.23019185,  0.31813939],\n",
       "       [ 0.43413137, -0.4730881 ],\n",
       "       [-1.71969868, -0.97126837],\n",
       "       [ 0.43413137,  0.02509217],\n",
       "       [-1.32809321, -0.41447866],\n",
       "       [-0.25117819,  0.17161578],\n",
       "       [-1.03438912,  0.55257716],\n",
       "       [-1.13229048, -1.58666753],\n",
       "       [ 0.43413137, -0.12143144],\n",
       "       [ 0.04252591, -0.56100227],\n",
       "       [-1.03438912,  0.78701494],\n",
       "       [ 0.23832864,  0.05439689],\n",
       "       [-0.25117819, -1.29362031],\n",
       "       [ 0.33623   , -0.53169755],\n",
       "       [-0.15327683, -0.18004088],\n",
       "       [-0.05537546,  0.31813939],\n",
       "       [ 1.02153956, -1.17640143],\n",
       "       [-0.44698092, -1.20570615],\n",
       "       [ 1.70684912,  1.63685187],\n",
       "       [ 1.02153956, -1.14709671],\n",
       "       [-0.25117819, -0.29725977],\n",
       "       [ 0.33623   ,  0.08370161],\n",
       "       [-1.62179731,  0.55257716],\n",
       "       [ 2.00055322,  2.19364158],\n",
       "       [ 0.04252591,  1.25589049],\n",
       "       [-0.44698092, -0.82474477],\n",
       "       [-1.13229048,  0.34744411],\n",
       "       [-0.83858639, -0.76613532],\n",
       "       [-1.81760004, -1.26431559],\n",
       "       [-1.23019185, -1.38153448],\n",
       "       [-1.52389594,  0.34744411],\n",
       "       [ 1.02153956,  0.78701494],\n",
       "       [-1.13229048,  0.43535827],\n",
       "       [ 0.82573683,  0.55257716],\n",
       "       [-0.05537546, -0.41447866],\n",
       "       [ 0.14042727,  0.11300633],\n",
       "       [-0.25117819, -1.38153448],\n",
       "       [-1.13229048, -0.50239282],\n",
       "       [-1.91550141, -0.03351728],\n",
       "       [-1.32809321, -1.23501087],\n",
       "       [-0.34907956, -0.76613532],\n",
       "       [-0.15327683,  2.19364158],\n",
       "       [ 2.00055322,  0.93353854],\n",
       "       [-0.15327683,  1.43171882],\n",
       "       [ 0.43413137,  0.6111866 ],\n",
       "       [-0.05537546, -1.05918254],\n",
       "       [-0.25117819,  0.08370161],\n",
       "       [ 0.9236382 ,  1.28519521],\n",
       "       [-1.03438912,  0.6111866 ],\n",
       "       [-1.03438912, -0.32656449],\n",
       "       [ 1.41314502,  2.36946991],\n",
       "       [ 0.9236382 , -0.59030699],\n",
       "       [-1.81760004, -1.29362031],\n",
       "       [ 1.90265185,  0.14231106],\n",
       "       [ 0.82573683, -1.35222976],\n",
       "       [ 0.23832864, -0.35586922],\n",
       "       [-1.03438912, -1.52805809],\n",
       "       [-0.05537546,  1.98850853],\n",
       "       [ 0.23832864, -0.12143144],\n",
       "       [-0.25117819, -0.23865033],\n",
       "       [ 2.09845458,  0.2009205 ],\n",
       "       [ 1.70684912, -0.88335421],\n",
       "       [-1.91550141, -0.50239282],\n",
       "       [-0.05537546, -0.20934561],\n",
       "       [-1.13229048, -1.52805809],\n",
       "       [-0.44698092, -0.76613532],\n",
       "       [-1.52389594, -1.23501087],\n",
       "       [ 2.00055322, -0.91265893],\n",
       "       [ 0.14042727,  0.23022522],\n",
       "       [ 1.02153956,  0.6111866 ],\n",
       "       [-1.03438912, -0.35586922],\n",
       "       [-1.03438912,  0.58188188],\n",
       "       [ 0.23832864,  2.13503214],\n",
       "       [-0.15327683,  1.66615659],\n",
       "       [ 0.14042727,  0.28883466],\n",
       "       [ 0.82573683,  0.37674883],\n",
       "       [-0.83858639,  2.31086047],\n",
       "       [-1.71969868,  0.37674883],\n",
       "       [ 1.80475049,  1.87128964],\n",
       "       [-0.05537546,  0.23022522],\n",
       "       [-0.34907956, -0.76613532],\n",
       "       [ 0.43413137, -0.44378338],\n",
       "       [-0.25117819, -1.23501087],\n",
       "       [-1.52389594, -1.49875337],\n",
       "       [-0.74068502, -0.20934561],\n",
       "       [ 1.51104639,  0.37674883],\n",
       "       [-0.54488229,  1.40241409],\n",
       "       [ 0.33623   ,  0.31813939],\n",
       "       [ 0.82573683, -0.82474477],\n",
       "       [ 0.82573683, -1.20570615],\n",
       "       [-0.64278365,  0.58188188],\n",
       "       [-0.74068502, -0.59030699],\n",
       "       [ 0.43413137,  0.28883466],\n",
       "       [-0.25117819, -0.4730881 ],\n",
       "       [ 1.41314502,  1.31449993],\n",
       "       [ 1.31524366,  1.90059437],\n",
       "       [-1.52389594, -0.18004088],\n",
       "       [ 1.02153956, -1.0005731 ],\n",
       "       [ 0.04252591, -0.53169755],\n",
       "       [ 0.72783547,  1.8126802 ],\n",
       "       [ 0.9236382 ,  1.05075743],\n",
       "       [ 1.11944093, -1.20570615],\n",
       "       [ 0.9236382 , -0.76613532],\n",
       "       [ 0.14042727, -0.79544004],\n",
       "       [ 0.9236382 , -1.14709671],\n",
       "       [ 1.21734229, -1.44014392],\n",
       "       [-0.15327683, -0.44378338],\n",
       "       [-1.32809321, -1.08848726],\n",
       "       [-0.05537546,  0.02509217],\n",
       "       [-0.05537546,  0.31813939],\n",
       "       [ 0.33623   , -0.29725977],\n",
       "       [ 0.53203273,  1.87128964],\n",
       "       [-1.81760004,  0.02509217],\n",
       "       [-0.54488229,  1.49032826],\n",
       "       [-0.83858639,  0.40605355],\n",
       "       [ 0.43413137, -0.15073616],\n",
       "       [-0.74068502, -1.58666753],\n",
       "       [ 0.04252591,  0.05439689],\n",
       "       [-1.42599458, -1.20570615],\n",
       "       [-0.64278365, -1.02987782],\n",
       "       [ 1.41314502, -1.4108392 ],\n",
       "       [-0.05537546,  2.19364158],\n",
       "       [ 0.82573683, -1.08848726],\n",
       "       [-0.05537546,  0.17161578],\n",
       "       [-0.74068502,  1.37310937],\n",
       "       [-0.44698092,  2.34016519],\n",
       "       [-1.62179731,  0.08370161],\n",
       "       [-0.93648775,  0.52327244],\n",
       "       [ 0.9236382 , -1.35222976],\n",
       "       [-1.13229048,  0.31813939],\n",
       "       [-1.71969868, -1.35222976],\n",
       "       [ 1.31524366,  2.25225103],\n",
       "       [ 0.72783547, -1.38153448],\n",
       "       [-1.13229048,  0.31813939],\n",
       "       [-0.93648775,  0.58188188],\n",
       "       [ 0.23832864,  1.10936688],\n",
       "       [ 0.14042727, -0.29725977],\n",
       "       [-1.71969868,  0.14231106],\n",
       "       [ 0.9236382 , -1.44014392],\n",
       "       [-0.44698092, -0.26795505],\n",
       "       [ 2.19635595, -0.67822116],\n",
       "       [ 0.14042727,  1.90059437],\n",
       "       [ 1.11944093,  2.10572742],\n",
       "       [-0.64278365,  1.43171882],\n",
       "       [ 2.19635595, -0.79544004],\n",
       "       [ 0.43413137,  0.31813939],\n",
       "       [-0.74068502,  0.58188188],\n",
       "       [-0.25117819, -0.64891643],\n",
       "       [-0.93648775,  1.57824243],\n",
       "       [ 1.02153956,  2.10572742],\n",
       "       [-0.05537546,  0.14231106],\n",
       "       [-0.93648775,  0.28883466],\n",
       "       [ 1.02153956, -0.82474477],\n",
       "       [ 0.33623   , -0.26795505],\n",
       "       [ 0.14042727, -0.79544004],\n",
       "       [-1.81760004, -1.46944865],\n",
       "       [ 0.43413137,  0.31813939],\n",
       "       [-1.32809321, -0.41447866],\n",
       "       [ 0.9236382 , -0.64891643],\n",
       "       [-0.25117819, -0.41447866],\n",
       "       [-0.15327683,  0.17161578],\n",
       "       [-0.64278365, -0.03351728],\n",
       "       [-0.25117819, -0.56100227],\n",
       "       [-0.25117819, -0.26795505],\n",
       "       [-0.83858639,  0.31813939],\n",
       "       [-0.74068502, -1.52805809],\n",
       "       [-0.25117819,  0.05439689],\n",
       "       [ 0.82573683,  1.40241409],\n",
       "       [ 0.9236382 , -0.56100227],\n",
       "       [ 0.43413137,  2.34016519],\n",
       "       [ 1.60894776,  0.02509217],\n",
       "       [ 2.09845458, -0.79544004],\n",
       "       [-0.44698092, -0.53169755],\n",
       "       [ 1.80475049,  1.02145271],\n",
       "       [-1.62179731, -1.55736281],\n",
       "       [ 0.04252591,  0.05439689],\n",
       "       [ 0.6299341 ,  2.04711797],\n",
       "       [ 0.23832864, -0.64891643],\n",
       "       [-1.13229048, -1.14709671],\n",
       "       [ 1.70684912,  1.78337548],\n",
       "       [-0.93648775,  0.43535827],\n",
       "       [-0.25117819, -1.35222976],\n",
       "       [-1.13229048,  1.43171882],\n",
       "       [ 0.43413137,  1.02145271],\n",
       "       [-1.23019185,  0.6111866 ],\n",
       "       [-1.13229048, -1.55736281],\n",
       "       [-0.25117819, -0.56100227],\n",
       "       [ 0.04252591,  1.28519521],\n",
       "       [-0.44698092, -1.11779198],\n",
       "       [-0.05537546,  0.05439689],\n",
       "       [-0.74068502,  1.92989909],\n",
       "       [ 0.04252591, -0.23865033],\n",
       "       [-0.34907956,  1.34380465],\n",
       "       [-1.42599458, -1.44014392],\n",
       "       [ 1.02153956,  1.8126802 ],\n",
       "       [ 2.09845458,  0.55257716],\n",
       "       [ 0.33623   ,  0.08370161],\n",
       "       [-0.15327683, -0.56100227],\n",
       "       [ 2.19635595,  0.40605355],\n",
       "       [ 1.60894776, -1.26431559],\n",
       "       [ 0.14042727,  1.5489377 ],\n",
       "       [ 0.9236382 , -0.53169755],\n",
       "       [ 2.19635595, -1.02987782],\n",
       "       [ 0.72783547, -1.08848726],\n",
       "       [ 0.04252591, -0.56100227],\n",
       "       [-1.32809321, -1.46944865],\n",
       "       [-0.05537546, -0.4730881 ],\n",
       "       [ 0.6299341 , -0.88335421],\n",
       "       [ 1.11944093, -0.88335421],\n",
       "       [ 0.33623   , -0.50239282],\n",
       "       [-0.05537546,  0.28883466],\n",
       "       [-1.23019185,  0.52327244],\n",
       "       [-0.05537546,  0.08370161],\n",
       "       [ 0.04252591, -0.41447866],\n",
       "       [-0.74068502,  0.52327244],\n",
       "       [-0.25117819,  0.81631966],\n",
       "       [ 0.33623   ,  0.52327244],\n",
       "       [-1.03438912,  1.98850853],\n",
       "       [-0.93648775,  0.464663  ],\n",
       "       [-1.91550141,  0.49396772],\n",
       "       [-1.81760004,  0.2009205 ],\n",
       "       [ 0.23832864, -0.35586922],\n",
       "       [-1.03438912,  0.43535827],\n",
       "       [-0.25117819, -0.32656449],\n",
       "       [-1.91550141,  0.37674883],\n",
       "       [-0.25117819,  0.08370161],\n",
       "       [-0.64278365,  0.05439689],\n",
       "       [ 1.11944093, -1.20570615],\n",
       "       [-0.25117819,  0.28883466],\n",
       "       [-1.13229048, -1.0005731 ],\n",
       "       [ 0.43413137,  1.1386716 ],\n",
       "       [-0.93648775, -1.08848726],\n",
       "       [ 0.72783547, -1.38153448],\n",
       "       [ 0.33623   ,  0.05439689],\n",
       "       [ 1.11944093, -0.97126837],\n",
       "       [ 1.21734229,  0.55257716],\n",
       "       [ 2.00055322,  0.75771021],\n",
       "       [ 0.43413137,  0.11300633],\n",
       "       [-0.25117819, -1.44014392],\n",
       "       [ 0.23832864, -0.29725977],\n",
       "       [-0.64278365, -1.49875337],\n",
       "       [ 0.14042727,  0.78701494],\n",
       "       [ 0.33623   ,  0.08370161],\n",
       "       [-0.05537546,  0.69910077],\n",
       "       [ 2.09845458,  1.78337548],\n",
       "       [ 2.19635595, -0.79544004],\n",
       "       [-1.13229048, -0.76613532],\n",
       "       [-0.15327683,  1.63685187],\n",
       "       [-0.83858639, -1.20570615],\n",
       "       [ 0.23832864,  0.17161578],\n",
       "       [-0.64278365,  0.2009205 ],\n",
       "       [ 1.21734229, -0.7368306 ],\n",
       "       [-0.25117819, -0.91265893],\n",
       "       [-0.83858639, -0.23865033],\n",
       "       [-1.13229048,  0.08370161],\n",
       "       [ 0.53203273,  1.25589049],\n",
       "       [ 0.33623   , -0.70752588],\n",
       "       [ 0.82573683,  0.14231106],\n",
       "       [ 1.51104639,  0.08370161],\n",
       "       [-0.34907956, -1.29362031],\n",
       "       [ 0.23832864,  0.08370161],\n",
       "       [ 0.04252591, -0.23865033],\n",
       "       [-1.42599458, -0.18004088],\n",
       "       [ 1.51104639,  1.02145271],\n",
       "       [-1.71969868,  0.37674883],\n",
       "       [ 1.41314502,  2.01781325],\n",
       "       [-0.15327683, -0.50239282],\n",
       "       [ 0.82573683,  0.78701494],\n",
       "       [-1.03438912, -1.11779198],\n",
       "       [-0.64278365, -1.58666753],\n",
       "       [ 0.33623   , -0.50239282],\n",
       "       [-0.25117819,  0.23022522],\n",
       "       [-0.15327683, -0.26795505],\n",
       "       [ 0.43413137, -0.12143144],\n",
       "       [-1.71969868,  0.49396772],\n",
       "       [ 1.21734229, -0.97126837],\n",
       "       [ 1.02153956,  2.01781325],\n",
       "       [-0.93648775, -0.29725977],\n",
       "       [ 1.02153956,  1.90059437],\n",
       "       [-0.93648775, -0.7368306 ],\n",
       "       [ 2.19635595,  1.1386716 ],\n",
       "       [ 0.72783547, -0.70752588],\n",
       "       [-0.93648775, -0.41447866],\n",
       "       [ 0.72783547,  0.28883466],\n",
       "       [-0.25117819,  0.11300633],\n",
       "       [ 1.31524366, -1.35222976],\n",
       "       [-0.83858639,  0.40605355],\n",
       "       [ 0.23832864,  0.25952994],\n",
       "       [ 0.33623   , -1.14709671],\n",
       "       [ 1.51104639, -1.02987782],\n",
       "       [-0.83858639, -0.64891643],\n",
       "       [ 1.02153956,  1.46102354],\n",
       "       [ 0.04252591, -0.12143144],\n",
       "       [ 1.02153956, -1.05918254],\n",
       "       [-0.25117819, -0.12143144],\n",
       "       [ 0.14042727, -0.23865033],\n",
       "       [-0.34907956,  0.08370161],\n",
       "       [ 1.90265185, -1.26431559],\n",
       "       [ 1.51104639,  2.16433686],\n",
       "       [-1.03438912, -0.44378338],\n",
       "       [ 1.11944093,  0.55257716],\n",
       "       [ 0.9236382 ,  1.10936688],\n",
       "       [-0.25117819, -0.88335421],\n",
       "       [-0.93648775, -0.29725977],\n",
       "       [-1.32809321,  0.43535827]])"
      ]
     },
     "execution_count": 38,
     "metadata": {},
     "output_type": "execute_result"
    }
   ],
   "source": [
    "X_train=scaler.fit_transform(X_train)\n",
    "X_train"
   ]
  },
  {
   "cell_type": "code",
   "execution_count": 39,
   "id": "3e7757c7",
   "metadata": {},
   "outputs": [
    {
     "data": {
      "text/plain": [
       "array([[ 1.60894776,  1.02145271],\n",
       "       [-1.23019185,  0.28883466],\n",
       "       [ 0.82573683, -1.38153448],\n",
       "       [ 1.11944093,  0.14231106],\n",
       "       [-0.05537546, -0.50239282],\n",
       "       [ 1.41314502, -0.91265893],\n",
       "       [-1.42599458,  0.37674883],\n",
       "       [ 0.23832864,  0.17161578],\n",
       "       [-0.25117819, -0.7368306 ],\n",
       "       [-1.13229048, -1.08848726],\n",
       "       [ 0.43413137, -0.44378338],\n",
       "       [ 1.02153956,  0.14231106],\n",
       "       [ 2.09845458, -1.17640143],\n",
       "       [-0.54488229, -1.49875337],\n",
       "       [ 0.04252591,  0.31813939],\n",
       "       [-0.93648775, -0.94196365],\n",
       "       [-0.64278365,  0.14231106],\n",
       "       [ 0.33623   ,  0.28883466],\n",
       "       [ 0.53203273,  1.75407076],\n",
       "       [-1.32809321,  0.58188188],\n",
       "       [ 1.41314502,  0.6111866 ],\n",
       "       [-0.54488229, -1.49875337],\n",
       "       [-1.81760004, -1.4108392 ],\n",
       "       [ 1.11944093,  0.49396772],\n",
       "       [-0.25117819,  0.64049133],\n",
       "       [-1.23019185, -1.05918254],\n",
       "       [ 2.09845458,  0.40605355],\n",
       "       [ 0.14042727,  1.90059437],\n",
       "       [ 0.14042727,  1.08006215],\n",
       "       [ 0.43413137,  0.17161578],\n",
       "       [-0.44698092, -0.00421255],\n",
       "       [-0.83858639,  0.17161578],\n",
       "       [-0.83858639, -0.76613532],\n",
       "       [-1.62179731, -0.03351728],\n",
       "       [ 0.23832864, -0.26795505],\n",
       "       [-1.42599458, -0.09212672],\n",
       "       [ 2.09845458,  2.16433686],\n",
       "       [ 1.90265185,  1.5489377 ],\n",
       "       [-0.74068502,  1.10936688],\n",
       "       [-0.25117819,  1.1386716 ],\n",
       "       [-0.15327683, -1.05918254],\n",
       "       [-1.03438912, -1.44014392],\n",
       "       [ 0.14042727,  0.05439689],\n",
       "       [ 0.14042727,  0.17161578],\n",
       "       [-0.54488229,  2.36946991],\n",
       "       [-1.52389594, -0.41447866],\n",
       "       [-1.91550141, -0.7368306 ],\n",
       "       [-1.03438912, -0.32656449],\n",
       "       [ 0.82573683, -0.29725977],\n",
       "       [ 1.90265185, -1.05918254],\n",
       "       [ 2.00055322, -0.64891643],\n",
       "       [ 0.04252591, -0.29725977],\n",
       "       [-1.32809321, -0.32656449],\n",
       "       [ 0.33623   ,  0.08370161],\n",
       "       [ 0.23832864, -0.35586922],\n",
       "       [ 0.9236382 ,  2.19364158],\n",
       "       [-0.25117819,  0.17161578],\n",
       "       [-0.44698092,  1.28519521],\n",
       "       [ 1.02153956, -1.05918254],\n",
       "       [-1.42599458, -0.61961171],\n",
       "       [ 0.82573683,  0.28883466],\n",
       "       [-0.25117819,  2.28155575],\n",
       "       [-1.32809321, -1.35222976],\n",
       "       [ 2.19635595,  0.96284327],\n",
       "       [-0.54488229,  1.92989909],\n",
       "       [ 1.11944093,  0.58188188],\n",
       "       [ 1.60894776,  1.1386716 ],\n",
       "       [ 1.80475049, -0.26795505],\n",
       "       [-1.71969868, -0.59030699],\n",
       "       [ 0.23832864, -0.23865033],\n",
       "       [-0.54488229,  0.49396772],\n",
       "       [-0.05537546,  2.25225103],\n",
       "       [-0.25117819,  0.55257716],\n",
       "       [ 0.9236382 , -1.02987782],\n",
       "       [ 1.11944093, -0.12143144],\n",
       "       [-1.81760004,  0.464663  ],\n",
       "       [-0.74068502,  0.31813939],\n",
       "       [-0.64278365, -0.09212672],\n",
       "       [-0.05537546,  0.25952994],\n",
       "       [ 2.00055322, -1.35222976]])"
      ]
     },
     "execution_count": 39,
     "metadata": {},
     "output_type": "execute_result"
    }
   ],
   "source": [
    "X_test=scaler.transform(X_test)\n",
    "X_test"
   ]
  },
  {
   "cell_type": "code",
   "execution_count": 40,
   "id": "f93c3eb3",
   "metadata": {},
   "outputs": [
    {
     "data": {
      "text/plain": [
       "17.88854381999832"
      ]
     },
     "execution_count": 40,
     "metadata": {},
     "output_type": "execute_result"
    }
   ],
   "source": [
    "#1st Method\n",
    "np.sqrt(X_train.shape[0])"
   ]
  },
  {
   "cell_type": "code",
   "execution_count": 41,
   "id": "904c867a",
   "metadata": {},
   "outputs": [],
   "source": [
    "k=17"
   ]
  },
  {
   "cell_type": "code",
   "execution_count": 45,
   "id": "8c24893b",
   "metadata": {},
   "outputs": [],
   "source": [
    "from sklearn.neighbors import KNeighborsClassifier\n",
    "knn=KNeighborsClassifier(n_neighbors=k)"
   ]
  },
  {
   "cell_type": "code",
   "execution_count": 46,
   "id": "bcf18a7a",
   "metadata": {},
   "outputs": [
    {
     "data": {
      "text/plain": [
       "KNeighborsClassifier(n_neighbors=17)"
      ]
     },
     "execution_count": 46,
     "metadata": {},
     "output_type": "execute_result"
    }
   ],
   "source": [
    "#train our model\n",
    "knn.fit(X_train,y_train)"
   ]
  },
  {
   "cell_type": "code",
   "execution_count": 47,
   "id": "ac70a295",
   "metadata": {},
   "outputs": [
    {
     "name": "stderr",
     "output_type": "stream",
     "text": [
      "C:\\ProgramData\\Anaconda3\\lib\\site-packages\\sklearn\\neighbors\\_classification.py:228: FutureWarning: Unlike other reduction functions (e.g. `skew`, `kurtosis`), the default behavior of `mode` typically preserves the axis it acts along. In SciPy 1.11.0, this behavior will change: the default value of `keepdims` will become False, the `axis` over which the statistic is taken will be eliminated, and the value None will no longer be accepted. Set `keepdims` to True or False to avoid this warning.\n",
      "  mode, _ = stats.mode(_y[neigh_ind, k], axis=1)\n"
     ]
    }
   ],
   "source": [
    "y_pred=knn.predict(X_test)\n"
   ]
  },
  {
   "cell_type": "code",
   "execution_count": 48,
   "id": "0d8cc5f3",
   "metadata": {},
   "outputs": [
    {
     "data": {
      "text/plain": [
       "(80,)"
      ]
     },
     "execution_count": 48,
     "metadata": {},
     "output_type": "execute_result"
    }
   ],
   "source": [
    "y_pred.shape"
   ]
  },
  {
   "cell_type": "code",
   "execution_count": 49,
   "id": "d2b16feb",
   "metadata": {},
   "outputs": [
    {
     "data": {
      "text/plain": [
       "(80,)"
      ]
     },
     "execution_count": 49,
     "metadata": {},
     "output_type": "execute_result"
    }
   ],
   "source": [
    "y_test.shape"
   ]
  },
  {
   "cell_type": "code",
   "execution_count": 50,
   "id": "d6aa7ce7",
   "metadata": {},
   "outputs": [],
   "source": [
    "from sklearn.metrics import accuracy_score"
   ]
  },
  {
   "cell_type": "code",
   "execution_count": 51,
   "id": "6679cda3",
   "metadata": {},
   "outputs": [
    {
     "data": {
      "text/plain": [
       "0.875"
      ]
     },
     "execution_count": 51,
     "metadata": {},
     "output_type": "execute_result"
    }
   ],
   "source": [
    "accuracy_score(y_test,y_pred)"
   ]
  },
  {
   "cell_type": "code",
   "execution_count": 52,
   "id": "8fa2c2cd",
   "metadata": {},
   "outputs": [
    {
     "data": {
      "text/plain": [
       "array([[45,  5],\n",
       "       [ 5, 25]], dtype=int64)"
      ]
     },
     "execution_count": 52,
     "metadata": {},
     "output_type": "execute_result"
    }
   ],
   "source": [
    "from sklearn.metrics import confusion_matrix\n",
    "confusion_matrix(y_test,y_pred)"
   ]
  },
  {
   "cell_type": "code",
   "execution_count": 54,
   "id": "166ffff8",
   "metadata": {},
   "outputs": [
    {
     "name": "stderr",
     "output_type": "stream",
     "text": [
      "C:\\ProgramData\\Anaconda3\\lib\\site-packages\\sklearn\\neighbors\\_classification.py:228: FutureWarning: Unlike other reduction functions (e.g. `skew`, `kurtosis`), the default behavior of `mode` typically preserves the axis it acts along. In SciPy 1.11.0, this behavior will change: the default value of `keepdims` will become False, the `axis` over which the statistic is taken will be eliminated, and the value None will no longer be accepted. Set `keepdims` to True or False to avoid this warning.\n",
      "  mode, _ = stats.mode(_y[neigh_ind, k], axis=1)\n",
      "C:\\ProgramData\\Anaconda3\\lib\\site-packages\\sklearn\\neighbors\\_classification.py:228: FutureWarning: Unlike other reduction functions (e.g. `skew`, `kurtosis`), the default behavior of `mode` typically preserves the axis it acts along. In SciPy 1.11.0, this behavior will change: the default value of `keepdims` will become False, the `axis` over which the statistic is taken will be eliminated, and the value None will no longer be accepted. Set `keepdims` to True or False to avoid this warning.\n",
      "  mode, _ = stats.mode(_y[neigh_ind, k], axis=1)\n",
      "C:\\ProgramData\\Anaconda3\\lib\\site-packages\\sklearn\\neighbors\\_classification.py:228: FutureWarning: Unlike other reduction functions (e.g. `skew`, `kurtosis`), the default behavior of `mode` typically preserves the axis it acts along. In SciPy 1.11.0, this behavior will change: the default value of `keepdims` will become False, the `axis` over which the statistic is taken will be eliminated, and the value None will no longer be accepted. Set `keepdims` to True or False to avoid this warning.\n",
      "  mode, _ = stats.mode(_y[neigh_ind, k], axis=1)\n",
      "C:\\ProgramData\\Anaconda3\\lib\\site-packages\\sklearn\\neighbors\\_classification.py:228: FutureWarning: Unlike other reduction functions (e.g. `skew`, `kurtosis`), the default behavior of `mode` typically preserves the axis it acts along. In SciPy 1.11.0, this behavior will change: the default value of `keepdims` will become False, the `axis` over which the statistic is taken will be eliminated, and the value None will no longer be accepted. Set `keepdims` to True or False to avoid this warning.\n",
      "  mode, _ = stats.mode(_y[neigh_ind, k], axis=1)\n",
      "C:\\ProgramData\\Anaconda3\\lib\\site-packages\\sklearn\\neighbors\\_classification.py:228: FutureWarning: Unlike other reduction functions (e.g. `skew`, `kurtosis`), the default behavior of `mode` typically preserves the axis it acts along. In SciPy 1.11.0, this behavior will change: the default value of `keepdims` will become False, the `axis` over which the statistic is taken will be eliminated, and the value None will no longer be accepted. Set `keepdims` to True or False to avoid this warning.\n",
      "  mode, _ = stats.mode(_y[neigh_ind, k], axis=1)\n",
      "C:\\ProgramData\\Anaconda3\\lib\\site-packages\\sklearn\\neighbors\\_classification.py:228: FutureWarning: Unlike other reduction functions (e.g. `skew`, `kurtosis`), the default behavior of `mode` typically preserves the axis it acts along. In SciPy 1.11.0, this behavior will change: the default value of `keepdims` will become False, the `axis` over which the statistic is taken will be eliminated, and the value None will no longer be accepted. Set `keepdims` to True or False to avoid this warning.\n",
      "  mode, _ = stats.mode(_y[neigh_ind, k], axis=1)\n",
      "C:\\ProgramData\\Anaconda3\\lib\\site-packages\\sklearn\\neighbors\\_classification.py:228: FutureWarning: Unlike other reduction functions (e.g. `skew`, `kurtosis`), the default behavior of `mode` typically preserves the axis it acts along. In SciPy 1.11.0, this behavior will change: the default value of `keepdims` will become False, the `axis` over which the statistic is taken will be eliminated, and the value None will no longer be accepted. Set `keepdims` to True or False to avoid this warning.\n",
      "  mode, _ = stats.mode(_y[neigh_ind, k], axis=1)\n",
      "C:\\ProgramData\\Anaconda3\\lib\\site-packages\\sklearn\\neighbors\\_classification.py:228: FutureWarning: Unlike other reduction functions (e.g. `skew`, `kurtosis`), the default behavior of `mode` typically preserves the axis it acts along. In SciPy 1.11.0, this behavior will change: the default value of `keepdims` will become False, the `axis` over which the statistic is taken will be eliminated, and the value None will no longer be accepted. Set `keepdims` to True or False to avoid this warning.\n",
      "  mode, _ = stats.mode(_y[neigh_ind, k], axis=1)\n",
      "C:\\ProgramData\\Anaconda3\\lib\\site-packages\\sklearn\\neighbors\\_classification.py:228: FutureWarning: Unlike other reduction functions (e.g. `skew`, `kurtosis`), the default behavior of `mode` typically preserves the axis it acts along. In SciPy 1.11.0, this behavior will change: the default value of `keepdims` will become False, the `axis` over which the statistic is taken will be eliminated, and the value None will no longer be accepted. Set `keepdims` to True or False to avoid this warning.\n",
      "  mode, _ = stats.mode(_y[neigh_ind, k], axis=1)\n",
      "C:\\ProgramData\\Anaconda3\\lib\\site-packages\\sklearn\\neighbors\\_classification.py:228: FutureWarning: Unlike other reduction functions (e.g. `skew`, `kurtosis`), the default behavior of `mode` typically preserves the axis it acts along. In SciPy 1.11.0, this behavior will change: the default value of `keepdims` will become False, the `axis` over which the statistic is taken will be eliminated, and the value None will no longer be accepted. Set `keepdims` to True or False to avoid this warning.\n",
      "  mode, _ = stats.mode(_y[neigh_ind, k], axis=1)\n",
      "C:\\ProgramData\\Anaconda3\\lib\\site-packages\\sklearn\\neighbors\\_classification.py:228: FutureWarning: Unlike other reduction functions (e.g. `skew`, `kurtosis`), the default behavior of `mode` typically preserves the axis it acts along. In SciPy 1.11.0, this behavior will change: the default value of `keepdims` will become False, the `axis` over which the statistic is taken will be eliminated, and the value None will no longer be accepted. Set `keepdims` to True or False to avoid this warning.\n",
      "  mode, _ = stats.mode(_y[neigh_ind, k], axis=1)\n",
      "C:\\ProgramData\\Anaconda3\\lib\\site-packages\\sklearn\\neighbors\\_classification.py:228: FutureWarning: Unlike other reduction functions (e.g. `skew`, `kurtosis`), the default behavior of `mode` typically preserves the axis it acts along. In SciPy 1.11.0, this behavior will change: the default value of `keepdims` will become False, the `axis` over which the statistic is taken will be eliminated, and the value None will no longer be accepted. Set `keepdims` to True or False to avoid this warning.\n",
      "  mode, _ = stats.mode(_y[neigh_ind, k], axis=1)\n",
      "C:\\ProgramData\\Anaconda3\\lib\\site-packages\\sklearn\\neighbors\\_classification.py:228: FutureWarning: Unlike other reduction functions (e.g. `skew`, `kurtosis`), the default behavior of `mode` typically preserves the axis it acts along. In SciPy 1.11.0, this behavior will change: the default value of `keepdims` will become False, the `axis` over which the statistic is taken will be eliminated, and the value None will no longer be accepted. Set `keepdims` to True or False to avoid this warning.\n",
      "  mode, _ = stats.mode(_y[neigh_ind, k], axis=1)\n",
      "C:\\ProgramData\\Anaconda3\\lib\\site-packages\\sklearn\\neighbors\\_classification.py:228: FutureWarning: Unlike other reduction functions (e.g. `skew`, `kurtosis`), the default behavior of `mode` typically preserves the axis it acts along. In SciPy 1.11.0, this behavior will change: the default value of `keepdims` will become False, the `axis` over which the statistic is taken will be eliminated, and the value None will no longer be accepted. Set `keepdims` to True or False to avoid this warning.\n",
      "  mode, _ = stats.mode(_y[neigh_ind, k], axis=1)\n",
      "C:\\ProgramData\\Anaconda3\\lib\\site-packages\\sklearn\\neighbors\\_classification.py:228: FutureWarning: Unlike other reduction functions (e.g. `skew`, `kurtosis`), the default behavior of `mode` typically preserves the axis it acts along. In SciPy 1.11.0, this behavior will change: the default value of `keepdims` will become False, the `axis` over which the statistic is taken will be eliminated, and the value None will no longer be accepted. Set `keepdims` to True or False to avoid this warning.\n",
      "  mode, _ = stats.mode(_y[neigh_ind, k], axis=1)\n",
      "C:\\ProgramData\\Anaconda3\\lib\\site-packages\\sklearn\\neighbors\\_classification.py:228: FutureWarning: Unlike other reduction functions (e.g. `skew`, `kurtosis`), the default behavior of `mode` typically preserves the axis it acts along. In SciPy 1.11.0, this behavior will change: the default value of `keepdims` will become False, the `axis` over which the statistic is taken will be eliminated, and the value None will no longer be accepted. Set `keepdims` to True or False to avoid this warning.\n",
      "  mode, _ = stats.mode(_y[neigh_ind, k], axis=1)\n",
      "C:\\ProgramData\\Anaconda3\\lib\\site-packages\\sklearn\\neighbors\\_classification.py:228: FutureWarning: Unlike other reduction functions (e.g. `skew`, `kurtosis`), the default behavior of `mode` typically preserves the axis it acts along. In SciPy 1.11.0, this behavior will change: the default value of `keepdims` will become False, the `axis` over which the statistic is taken will be eliminated, and the value None will no longer be accepted. Set `keepdims` to True or False to avoid this warning.\n",
      "  mode, _ = stats.mode(_y[neigh_ind, k], axis=1)\n"
     ]
    },
    {
     "name": "stderr",
     "output_type": "stream",
     "text": [
      "C:\\ProgramData\\Anaconda3\\lib\\site-packages\\sklearn\\neighbors\\_classification.py:228: FutureWarning: Unlike other reduction functions (e.g. `skew`, `kurtosis`), the default behavior of `mode` typically preserves the axis it acts along. In SciPy 1.11.0, this behavior will change: the default value of `keepdims` will become False, the `axis` over which the statistic is taken will be eliminated, and the value None will no longer be accepted. Set `keepdims` to True or False to avoid this warning.\n",
      "  mode, _ = stats.mode(_y[neigh_ind, k], axis=1)\n",
      "C:\\ProgramData\\Anaconda3\\lib\\site-packages\\sklearn\\neighbors\\_classification.py:228: FutureWarning: Unlike other reduction functions (e.g. `skew`, `kurtosis`), the default behavior of `mode` typically preserves the axis it acts along. In SciPy 1.11.0, this behavior will change: the default value of `keepdims` will become False, the `axis` over which the statistic is taken will be eliminated, and the value None will no longer be accepted. Set `keepdims` to True or False to avoid this warning.\n",
      "  mode, _ = stats.mode(_y[neigh_ind, k], axis=1)\n",
      "C:\\ProgramData\\Anaconda3\\lib\\site-packages\\sklearn\\neighbors\\_classification.py:228: FutureWarning: Unlike other reduction functions (e.g. `skew`, `kurtosis`), the default behavior of `mode` typically preserves the axis it acts along. In SciPy 1.11.0, this behavior will change: the default value of `keepdims` will become False, the `axis` over which the statistic is taken will be eliminated, and the value None will no longer be accepted. Set `keepdims` to True or False to avoid this warning.\n",
      "  mode, _ = stats.mode(_y[neigh_ind, k], axis=1)\n",
      "C:\\ProgramData\\Anaconda3\\lib\\site-packages\\sklearn\\neighbors\\_classification.py:228: FutureWarning: Unlike other reduction functions (e.g. `skew`, `kurtosis`), the default behavior of `mode` typically preserves the axis it acts along. In SciPy 1.11.0, this behavior will change: the default value of `keepdims` will become False, the `axis` over which the statistic is taken will be eliminated, and the value None will no longer be accepted. Set `keepdims` to True or False to avoid this warning.\n",
      "  mode, _ = stats.mode(_y[neigh_ind, k], axis=1)\n",
      "C:\\ProgramData\\Anaconda3\\lib\\site-packages\\sklearn\\neighbors\\_classification.py:228: FutureWarning: Unlike other reduction functions (e.g. `skew`, `kurtosis`), the default behavior of `mode` typically preserves the axis it acts along. In SciPy 1.11.0, this behavior will change: the default value of `keepdims` will become False, the `axis` over which the statistic is taken will be eliminated, and the value None will no longer be accepted. Set `keepdims` to True or False to avoid this warning.\n",
      "  mode, _ = stats.mode(_y[neigh_ind, k], axis=1)\n",
      "C:\\ProgramData\\Anaconda3\\lib\\site-packages\\sklearn\\neighbors\\_classification.py:228: FutureWarning: Unlike other reduction functions (e.g. `skew`, `kurtosis`), the default behavior of `mode` typically preserves the axis it acts along. In SciPy 1.11.0, this behavior will change: the default value of `keepdims` will become False, the `axis` over which the statistic is taken will be eliminated, and the value None will no longer be accepted. Set `keepdims` to True or False to avoid this warning.\n",
      "  mode, _ = stats.mode(_y[neigh_ind, k], axis=1)\n",
      "C:\\ProgramData\\Anaconda3\\lib\\site-packages\\sklearn\\neighbors\\_classification.py:228: FutureWarning: Unlike other reduction functions (e.g. `skew`, `kurtosis`), the default behavior of `mode` typically preserves the axis it acts along. In SciPy 1.11.0, this behavior will change: the default value of `keepdims` will become False, the `axis` over which the statistic is taken will be eliminated, and the value None will no longer be accepted. Set `keepdims` to True or False to avoid this warning.\n",
      "  mode, _ = stats.mode(_y[neigh_ind, k], axis=1)\n",
      "C:\\ProgramData\\Anaconda3\\lib\\site-packages\\sklearn\\neighbors\\_classification.py:228: FutureWarning: Unlike other reduction functions (e.g. `skew`, `kurtosis`), the default behavior of `mode` typically preserves the axis it acts along. In SciPy 1.11.0, this behavior will change: the default value of `keepdims` will become False, the `axis` over which the statistic is taken will be eliminated, and the value None will no longer be accepted. Set `keepdims` to True or False to avoid this warning.\n",
      "  mode, _ = stats.mode(_y[neigh_ind, k], axis=1)\n",
      "C:\\ProgramData\\Anaconda3\\lib\\site-packages\\sklearn\\neighbors\\_classification.py:228: FutureWarning: Unlike other reduction functions (e.g. `skew`, `kurtosis`), the default behavior of `mode` typically preserves the axis it acts along. In SciPy 1.11.0, this behavior will change: the default value of `keepdims` will become False, the `axis` over which the statistic is taken will be eliminated, and the value None will no longer be accepted. Set `keepdims` to True or False to avoid this warning.\n",
      "  mode, _ = stats.mode(_y[neigh_ind, k], axis=1)\n",
      "C:\\ProgramData\\Anaconda3\\lib\\site-packages\\sklearn\\neighbors\\_classification.py:228: FutureWarning: Unlike other reduction functions (e.g. `skew`, `kurtosis`), the default behavior of `mode` typically preserves the axis it acts along. In SciPy 1.11.0, this behavior will change: the default value of `keepdims` will become False, the `axis` over which the statistic is taken will be eliminated, and the value None will no longer be accepted. Set `keepdims` to True or False to avoid this warning.\n",
      "  mode, _ = stats.mode(_y[neigh_ind, k], axis=1)\n",
      "C:\\ProgramData\\Anaconda3\\lib\\site-packages\\sklearn\\neighbors\\_classification.py:228: FutureWarning: Unlike other reduction functions (e.g. `skew`, `kurtosis`), the default behavior of `mode` typically preserves the axis it acts along. In SciPy 1.11.0, this behavior will change: the default value of `keepdims` will become False, the `axis` over which the statistic is taken will be eliminated, and the value None will no longer be accepted. Set `keepdims` to True or False to avoid this warning.\n",
      "  mode, _ = stats.mode(_y[neigh_ind, k], axis=1)\n",
      "C:\\ProgramData\\Anaconda3\\lib\\site-packages\\sklearn\\neighbors\\_classification.py:228: FutureWarning: Unlike other reduction functions (e.g. `skew`, `kurtosis`), the default behavior of `mode` typically preserves the axis it acts along. In SciPy 1.11.0, this behavior will change: the default value of `keepdims` will become False, the `axis` over which the statistic is taken will be eliminated, and the value None will no longer be accepted. Set `keepdims` to True or False to avoid this warning.\n",
      "  mode, _ = stats.mode(_y[neigh_ind, k], axis=1)\n",
      "C:\\ProgramData\\Anaconda3\\lib\\site-packages\\sklearn\\neighbors\\_classification.py:228: FutureWarning: Unlike other reduction functions (e.g. `skew`, `kurtosis`), the default behavior of `mode` typically preserves the axis it acts along. In SciPy 1.11.0, this behavior will change: the default value of `keepdims` will become False, the `axis` over which the statistic is taken will be eliminated, and the value None will no longer be accepted. Set `keepdims` to True or False to avoid this warning.\n",
      "  mode, _ = stats.mode(_y[neigh_ind, k], axis=1)\n",
      "C:\\ProgramData\\Anaconda3\\lib\\site-packages\\sklearn\\neighbors\\_classification.py:228: FutureWarning: Unlike other reduction functions (e.g. `skew`, `kurtosis`), the default behavior of `mode` typically preserves the axis it acts along. In SciPy 1.11.0, this behavior will change: the default value of `keepdims` will become False, the `axis` over which the statistic is taken will be eliminated, and the value None will no longer be accepted. Set `keepdims` to True or False to avoid this warning.\n",
      "  mode, _ = stats.mode(_y[neigh_ind, k], axis=1)\n",
      "C:\\ProgramData\\Anaconda3\\lib\\site-packages\\sklearn\\neighbors\\_classification.py:228: FutureWarning: Unlike other reduction functions (e.g. `skew`, `kurtosis`), the default behavior of `mode` typically preserves the axis it acts along. In SciPy 1.11.0, this behavior will change: the default value of `keepdims` will become False, the `axis` over which the statistic is taken will be eliminated, and the value None will no longer be accepted. Set `keepdims` to True or False to avoid this warning.\n",
      "  mode, _ = stats.mode(_y[neigh_ind, k], axis=1)\n",
      "C:\\ProgramData\\Anaconda3\\lib\\site-packages\\sklearn\\neighbors\\_classification.py:228: FutureWarning: Unlike other reduction functions (e.g. `skew`, `kurtosis`), the default behavior of `mode` typically preserves the axis it acts along. In SciPy 1.11.0, this behavior will change: the default value of `keepdims` will become False, the `axis` over which the statistic is taken will be eliminated, and the value None will no longer be accepted. Set `keepdims` to True or False to avoid this warning.\n",
      "  mode, _ = stats.mode(_y[neigh_ind, k], axis=1)\n"
     ]
    },
    {
     "name": "stderr",
     "output_type": "stream",
     "text": [
      "C:\\ProgramData\\Anaconda3\\lib\\site-packages\\sklearn\\neighbors\\_classification.py:228: FutureWarning: Unlike other reduction functions (e.g. `skew`, `kurtosis`), the default behavior of `mode` typically preserves the axis it acts along. In SciPy 1.11.0, this behavior will change: the default value of `keepdims` will become False, the `axis` over which the statistic is taken will be eliminated, and the value None will no longer be accepted. Set `keepdims` to True or False to avoid this warning.\n",
      "  mode, _ = stats.mode(_y[neigh_ind, k], axis=1)\n",
      "C:\\ProgramData\\Anaconda3\\lib\\site-packages\\sklearn\\neighbors\\_classification.py:228: FutureWarning: Unlike other reduction functions (e.g. `skew`, `kurtosis`), the default behavior of `mode` typically preserves the axis it acts along. In SciPy 1.11.0, this behavior will change: the default value of `keepdims` will become False, the `axis` over which the statistic is taken will be eliminated, and the value None will no longer be accepted. Set `keepdims` to True or False to avoid this warning.\n",
      "  mode, _ = stats.mode(_y[neigh_ind, k], axis=1)\n",
      "C:\\ProgramData\\Anaconda3\\lib\\site-packages\\sklearn\\neighbors\\_classification.py:228: FutureWarning: Unlike other reduction functions (e.g. `skew`, `kurtosis`), the default behavior of `mode` typically preserves the axis it acts along. In SciPy 1.11.0, this behavior will change: the default value of `keepdims` will become False, the `axis` over which the statistic is taken will be eliminated, and the value None will no longer be accepted. Set `keepdims` to True or False to avoid this warning.\n",
      "  mode, _ = stats.mode(_y[neigh_ind, k], axis=1)\n",
      "C:\\ProgramData\\Anaconda3\\lib\\site-packages\\sklearn\\neighbors\\_classification.py:228: FutureWarning: Unlike other reduction functions (e.g. `skew`, `kurtosis`), the default behavior of `mode` typically preserves the axis it acts along. In SciPy 1.11.0, this behavior will change: the default value of `keepdims` will become False, the `axis` over which the statistic is taken will be eliminated, and the value None will no longer be accepted. Set `keepdims` to True or False to avoid this warning.\n",
      "  mode, _ = stats.mode(_y[neigh_ind, k], axis=1)\n",
      "C:\\ProgramData\\Anaconda3\\lib\\site-packages\\sklearn\\neighbors\\_classification.py:228: FutureWarning: Unlike other reduction functions (e.g. `skew`, `kurtosis`), the default behavior of `mode` typically preserves the axis it acts along. In SciPy 1.11.0, this behavior will change: the default value of `keepdims` will become False, the `axis` over which the statistic is taken will be eliminated, and the value None will no longer be accepted. Set `keepdims` to True or False to avoid this warning.\n",
      "  mode, _ = stats.mode(_y[neigh_ind, k], axis=1)\n",
      "C:\\ProgramData\\Anaconda3\\lib\\site-packages\\sklearn\\neighbors\\_classification.py:228: FutureWarning: Unlike other reduction functions (e.g. `skew`, `kurtosis`), the default behavior of `mode` typically preserves the axis it acts along. In SciPy 1.11.0, this behavior will change: the default value of `keepdims` will become False, the `axis` over which the statistic is taken will be eliminated, and the value None will no longer be accepted. Set `keepdims` to True or False to avoid this warning.\n",
      "  mode, _ = stats.mode(_y[neigh_ind, k], axis=1)\n",
      "C:\\ProgramData\\Anaconda3\\lib\\site-packages\\sklearn\\neighbors\\_classification.py:228: FutureWarning: Unlike other reduction functions (e.g. `skew`, `kurtosis`), the default behavior of `mode` typically preserves the axis it acts along. In SciPy 1.11.0, this behavior will change: the default value of `keepdims` will become False, the `axis` over which the statistic is taken will be eliminated, and the value None will no longer be accepted. Set `keepdims` to True or False to avoid this warning.\n",
      "  mode, _ = stats.mode(_y[neigh_ind, k], axis=1)\n",
      "C:\\ProgramData\\Anaconda3\\lib\\site-packages\\sklearn\\neighbors\\_classification.py:228: FutureWarning: Unlike other reduction functions (e.g. `skew`, `kurtosis`), the default behavior of `mode` typically preserves the axis it acts along. In SciPy 1.11.0, this behavior will change: the default value of `keepdims` will become False, the `axis` over which the statistic is taken will be eliminated, and the value None will no longer be accepted. Set `keepdims` to True or False to avoid this warning.\n",
      "  mode, _ = stats.mode(_y[neigh_ind, k], axis=1)\n",
      "C:\\ProgramData\\Anaconda3\\lib\\site-packages\\sklearn\\neighbors\\_classification.py:228: FutureWarning: Unlike other reduction functions (e.g. `skew`, `kurtosis`), the default behavior of `mode` typically preserves the axis it acts along. In SciPy 1.11.0, this behavior will change: the default value of `keepdims` will become False, the `axis` over which the statistic is taken will be eliminated, and the value None will no longer be accepted. Set `keepdims` to True or False to avoid this warning.\n",
      "  mode, _ = stats.mode(_y[neigh_ind, k], axis=1)\n",
      "C:\\ProgramData\\Anaconda3\\lib\\site-packages\\sklearn\\neighbors\\_classification.py:228: FutureWarning: Unlike other reduction functions (e.g. `skew`, `kurtosis`), the default behavior of `mode` typically preserves the axis it acts along. In SciPy 1.11.0, this behavior will change: the default value of `keepdims` will become False, the `axis` over which the statistic is taken will be eliminated, and the value None will no longer be accepted. Set `keepdims` to True or False to avoid this warning.\n",
      "  mode, _ = stats.mode(_y[neigh_ind, k], axis=1)\n",
      "C:\\ProgramData\\Anaconda3\\lib\\site-packages\\sklearn\\neighbors\\_classification.py:228: FutureWarning: Unlike other reduction functions (e.g. `skew`, `kurtosis`), the default behavior of `mode` typically preserves the axis it acts along. In SciPy 1.11.0, this behavior will change: the default value of `keepdims` will become False, the `axis` over which the statistic is taken will be eliminated, and the value None will no longer be accepted. Set `keepdims` to True or False to avoid this warning.\n",
      "  mode, _ = stats.mode(_y[neigh_ind, k], axis=1)\n",
      "C:\\ProgramData\\Anaconda3\\lib\\site-packages\\sklearn\\neighbors\\_classification.py:228: FutureWarning: Unlike other reduction functions (e.g. `skew`, `kurtosis`), the default behavior of `mode` typically preserves the axis it acts along. In SciPy 1.11.0, this behavior will change: the default value of `keepdims` will become False, the `axis` over which the statistic is taken will be eliminated, and the value None will no longer be accepted. Set `keepdims` to True or False to avoid this warning.\n",
      "  mode, _ = stats.mode(_y[neigh_ind, k], axis=1)\n",
      "C:\\ProgramData\\Anaconda3\\lib\\site-packages\\sklearn\\neighbors\\_classification.py:228: FutureWarning: Unlike other reduction functions (e.g. `skew`, `kurtosis`), the default behavior of `mode` typically preserves the axis it acts along. In SciPy 1.11.0, this behavior will change: the default value of `keepdims` will become False, the `axis` over which the statistic is taken will be eliminated, and the value None will no longer be accepted. Set `keepdims` to True or False to avoid this warning.\n",
      "  mode, _ = stats.mode(_y[neigh_ind, k], axis=1)\n",
      "C:\\ProgramData\\Anaconda3\\lib\\site-packages\\sklearn\\neighbors\\_classification.py:228: FutureWarning: Unlike other reduction functions (e.g. `skew`, `kurtosis`), the default behavior of `mode` typically preserves the axis it acts along. In SciPy 1.11.0, this behavior will change: the default value of `keepdims` will become False, the `axis` over which the statistic is taken will be eliminated, and the value None will no longer be accepted. Set `keepdims` to True or False to avoid this warning.\n",
      "  mode, _ = stats.mode(_y[neigh_ind, k], axis=1)\n",
      "C:\\ProgramData\\Anaconda3\\lib\\site-packages\\sklearn\\neighbors\\_classification.py:228: FutureWarning: Unlike other reduction functions (e.g. `skew`, `kurtosis`), the default behavior of `mode` typically preserves the axis it acts along. In SciPy 1.11.0, this behavior will change: the default value of `keepdims` will become False, the `axis` over which the statistic is taken will be eliminated, and the value None will no longer be accepted. Set `keepdims` to True or False to avoid this warning.\n",
      "  mode, _ = stats.mode(_y[neigh_ind, k], axis=1)\n",
      "C:\\ProgramData\\Anaconda3\\lib\\site-packages\\sklearn\\neighbors\\_classification.py:228: FutureWarning: Unlike other reduction functions (e.g. `skew`, `kurtosis`), the default behavior of `mode` typically preserves the axis it acts along. In SciPy 1.11.0, this behavior will change: the default value of `keepdims` will become False, the `axis` over which the statistic is taken will be eliminated, and the value None will no longer be accepted. Set `keepdims` to True or False to avoid this warning.\n",
      "  mode, _ = stats.mode(_y[neigh_ind, k], axis=1)\n",
      "C:\\ProgramData\\Anaconda3\\lib\\site-packages\\sklearn\\neighbors\\_classification.py:228: FutureWarning: Unlike other reduction functions (e.g. `skew`, `kurtosis`), the default behavior of `mode` typically preserves the axis it acts along. In SciPy 1.11.0, this behavior will change: the default value of `keepdims` will become False, the `axis` over which the statistic is taken will be eliminated, and the value None will no longer be accepted. Set `keepdims` to True or False to avoid this warning.\n",
      "  mode, _ = stats.mode(_y[neigh_ind, k], axis=1)\n"
     ]
    }
   ],
   "source": [
    "# Effect of K on Training Error rate and Validation Error rate\n",
    "\n",
    "error_train=[]\n",
    "error_test=[]\n",
    "\n",
    "for i in range(1,26):\n",
    "    knn=KNeighborsClassifier(n_neighbors=i)\n",
    "    knn.fit(X_train,y_train)\n",
    "    x=confusion_matrix(y_train,knn.predict(X_train))\n",
    "    y=confusion_matrix(y_test,knn.predict(X_test))\n",
    "    error_train.append((x[0][1]+x[1][0])/x.sum())\n",
    "    error_test.append((y[0][1]+y[1][0])/y.sum())\n",
    "    "
   ]
  },
  {
   "cell_type": "code",
   "execution_count": 55,
   "id": "9a324717",
   "metadata": {},
   "outputs": [
    {
     "data": {
      "text/plain": [
       "<matplotlib.legend.Legend at 0x13a893378b0>"
      ]
     },
     "execution_count": 55,
     "metadata": {},
     "output_type": "execute_result"
    },
    {
     "data": {
      "image/png": "[encoded data removed]",
      "text/plain": [
       "<Figure size 640x480 with 1 Axes>"
      ]
     },
     "metadata": {},
     "output_type": "display_data"
    }
   ],
   "source": [
    "plt.plot(range(1,26),error_train,label='training error rate')\n",
    "plt.plot(range(1,26),error_test,label='test/validation error rate')\n",
    "plt.xlabel('K Value')\n",
    "plt.ylabel('Error')\n",
    "plt.legend()"
   ]
  },
  {
   "cell_type": "code",
   "execution_count": 56,
   "id": "3410e81a",
   "metadata": {},
   "outputs": [
    {
     "data": {
      "text/plain": [
       "KNeighborsClassifier(n_neighbors=11)"
      ]
     },
     "execution_count": 56,
     "metadata": {},
     "output_type": "execute_result"
    }
   ],
   "source": [
    "knn=KNeighborsClassifier(n_neighbors=11)\n",
    "knn.fit(X_train,y_train)"
   ]
  },
  {
   "cell_type": "code",
   "execution_count": 57,
   "id": "a75cb272",
   "metadata": {},
   "outputs": [
    {
     "name": "stderr",
     "output_type": "stream",
     "text": [
      "C:\\ProgramData\\Anaconda3\\lib\\site-packages\\sklearn\\neighbors\\_classification.py:228: FutureWarning: Unlike other reduction functions (e.g. `skew`, `kurtosis`), the default behavior of `mode` typically preserves the axis it acts along. In SciPy 1.11.0, this behavior will change: the default value of `keepdims` will become False, the `axis` over which the statistic is taken will be eliminated, and the value None will no longer be accepted. Set `keepdims` to True or False to avoid this warning.\n",
      "  mode, _ = stats.mode(_y[neigh_ind, k], axis=1)\n"
     ]
    }
   ],
   "source": [
    "y_pred=knn.predict(X_test)"
   ]
  },
  {
   "cell_type": "code",
   "execution_count": 58,
   "id": "51662481",
   "metadata": {},
   "outputs": [
    {
     "data": {
      "text/plain": [
       "0.9"
      ]
     },
     "execution_count": 58,
     "metadata": {},
     "output_type": "execute_result"
    }
   ],
   "source": [
    "accuracy_score(y_test,y_pred)"
   ]
  },
  {
   "cell_type": "code",
   "execution_count": 59,
   "id": "7f98b283",
   "metadata": {},
   "outputs": [],
   "source": [
    "def predict_output():\n",
    "    age=int(input(\"Enter the age\"))\n",
    "    salary=int(input(\"Enter the salary\"))\n",
    "    \n",
    "    X_new=np.array([[age],[salary]]).reshape(1,2)\n",
    "    X_new=scaler.transform(X_new)\n",
    "    \n",
    "    if knn.predict(X_new)[0]==0:\n",
    "        return \"Will not purchase\"\n",
    "    else:\n",
    "        return \"Will purchase\""
   ]
  },
  {
   "cell_type": "code",
   "execution_count": 60,
   "id": "0e49413b",
   "metadata": {},
   "outputs": [
    {
     "name": "stdout",
     "output_type": "stream",
     "text": [
      "Enter the age20\n",
      "Enter the salary30000\n"
     ]
    },
    {
     "name": "stderr",
     "output_type": "stream",
     "text": [
      "C:\\ProgramData\\Anaconda3\\lib\\site-packages\\sklearn\\neighbors\\_classification.py:228: FutureWarning: Unlike other reduction functions (e.g. `skew`, `kurtosis`), the default behavior of `mode` typically preserves the axis it acts along. In SciPy 1.11.0, this behavior will change: the default value of `keepdims` will become False, the `axis` over which the statistic is taken will be eliminated, and the value None will no longer be accepted. Set `keepdims` to True or False to avoid this warning.\n",
      "  mode, _ = stats.mode(_y[neigh_ind, k], axis=1)\n"
     ]
    },
    {
     "data": {
      "text/plain": [
       "'Will not purchase'"
      ]
     },
     "execution_count": 60,
     "metadata": {},
     "output_type": "execute_result"
    }
   ],
   "source": [
    "predict_output()"
   ]
  },
  {
   "cell_type": "code",
   "execution_count": null,
   "id": "7c900dde",
   "metadata": {},
   "outputs": [],
   "source": [
    "# Creating a Meshgrid "
   ]
  },
  {
   "cell_type": "code",
   "execution_count": 61,
   "id": "dda63eb0",
   "metadata": {},
   "outputs": [],
   "source": [
    "a=np.arange(start=X_train[:,0].min()-1, stop=X_train[:,0].max()+1, step=0.01)\n",
    "b=np.arange(start=X_train[:,1].min()-1, stop=X_train[:,1].max()+1, step=0.01)\n",
    "\n",
    "\n",
    "XX,YY=np.meshgrid(a,b)"
   ]
  },
  {
   "cell_type": "code",
   "execution_count": 62,
   "id": "1db98c0d",
   "metadata": {},
   "outputs": [
    {
     "data": {
      "text/plain": [
       "(596, 612)"
      ]
     },
     "execution_count": 62,
     "metadata": {},
     "output_type": "execute_result"
    }
   ],
   "source": [
    "YY.shape\n"
   ]
  },
  {
   "cell_type": "markdown",
   "id": "3540c9d5",
   "metadata": {},
   "source": [
    "### step3: Classifiying every point on the meshgrid "
   ]
  },
  {
   "cell_type": "code",
   "execution_count": 63,
   "id": "9a480cd4",
   "metadata": {},
   "outputs": [
    {
     "name": "stderr",
     "output_type": "stream",
     "text": [
      "C:\\ProgramData\\Anaconda3\\lib\\site-packages\\sklearn\\neighbors\\_classification.py:228: FutureWarning: Unlike other reduction functions (e.g. `skew`, `kurtosis`), the default behavior of `mode` typically preserves the axis it acts along. In SciPy 1.11.0, this behavior will change: the default value of `keepdims` will become False, the `axis` over which the statistic is taken will be eliminated, and the value None will no longer be accepted. Set `keepdims` to True or False to avoid this warning.\n",
      "  mode, _ = stats.mode(_y[neigh_ind, k], axis=1)\n"
     ]
    }
   ],
   "source": [
    "input_array=np.array([XX.ravel(),YY.ravel()]).T\n",
    "\n",
    "labels=knn.predict(input_array)"
   ]
  },
  {
   "cell_type": "code",
   "execution_count": 64,
   "id": "df4c5cf7",
   "metadata": {},
   "outputs": [
    {
     "data": {
      "text/plain": [
       "array([0, 0, 0, ..., 1, 1, 1], dtype=int64)"
      ]
     },
     "execution_count": 64,
     "metadata": {},
     "output_type": "execute_result"
    }
   ],
   "source": [
    "labels\n"
   ]
  },
  {
   "cell_type": "markdown",
   "id": "5fe10a5d",
   "metadata": {},
   "source": [
    "#### Step 4: Plotting the array as an image"
   ]
  },
  {
   "cell_type": "code",
   "execution_count": 65,
   "id": "9ac4001b",
   "metadata": {},
   "outputs": [
    {
     "data": {
      "text/plain": [
       "<matplotlib.contour.QuadContourSet at 0x13a8a4cbc40>"
      ]
     },
     "execution_count": 65,
     "metadata": {},
     "output_type": "execute_result"
    },
    {
     "data": {
      "image/png": "[encoded data removed]",
      "text/plain": [
       "<Figure size 640x480 with 1 Axes>"
      ]
     },
     "metadata": {},
     "output_type": "display_data"
    }
   ],
   "source": [
    "plt.contourf(XX,YY,labels.reshape(XX.shape))\n"
   ]
  },
  {
   "cell_type": "markdown",
   "id": "c3eba2b8",
   "metadata": {},
   "source": [
    "#### Step 5: Plotting all the training data on the plot\n"
   ]
  },
  {
   "cell_type": "code",
   "execution_count": 66,
   "id": "014c4427",
   "metadata": {},
   "outputs": [
    {
     "data": {
      "text/plain": [
       "<matplotlib.collections.PathCollection at 0x13a8a3d02e0>"
      ]
     },
     "execution_count": 66,
     "metadata": {},
     "output_type": "execute_result"
    },
    {
     "data": {
      "image/png": "[encoded data removed]",
      "text/plain": [
       "<Figure size 640x480 with 1 Axes>"
      ]
     },
     "metadata": {},
     "output_type": "display_data"
    }
   ],
   "source": [
    "plt.contourf(XX,YY,labels.reshape(XX.shape), alpha=0.75)\n",
    "plt.scatter(X_train[:,0],X_train[:,1], c=y_train)"
   ]
  }
 ],
 "metadata": {
  "kernelspec": {
   "display_name": "Python 3 (ipykernel)",
   "language": "python",
   "name": "python3"
  },
  "language_info": {
   "codemirror_mode": {
    "name": "ipython",
    "version": 3
   },
   "file_extension": ".py",
   "mimetype": "text/x-python",
   "name": "python",
   "nbconvert_exporter": "python",
   "pygments_lexer": "ipython3",
   "version": "3.9.13"
  }
 },
 "nbformat": 4,
 "nbformat_minor": 5
}
